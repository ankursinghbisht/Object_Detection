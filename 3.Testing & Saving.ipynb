{
 "cells": [
  {
   "cell_type": "markdown",
   "id": "93cfb1fb",
   "metadata": {},
   "source": [
    "# Setting up paths"
   ]
  },
  {
   "cell_type": "code",
   "execution_count": null,
   "id": "20666a32",
   "metadata": {},
   "outputs": [],
   "source": [
    "# Importing the os module for operating system-related functionality\n",
    "import os"
   ]
  },
  {
   "cell_type": "code",
   "execution_count": null,
   "id": "31121ac8",
   "metadata": {},
   "outputs": [],
   "source": [
    "# Custom model name for the project\n",
    "CUSTOM_MODEL_NAME = 'my_ssd_mobnet' \n",
    "\n",
    "# Pretrained model details\n",
    "PRETRAINED_MODEL_NAME = 'ssd_mobilenet_v2_fpnlite_320x320_coco17_tpu-8'\n",
    "PRETRAINED_MODEL_URL = 'http://download.tensorflow.org/models/object_detection/tf2/20200711/ssd_mobilenet_v2_fpnlite_320x320_coco17_tpu-8.tar.gz'\n",
    "\n",
    "# Script for generating TFRecord\n",
    "TF_RECORD_SCRIPT_NAME = 'generate_tfrecord.py'\n",
    "\n",
    "# Label map file name\n",
    "LABEL_MAP_NAME = 'label_map.pbtxt'"
   ]
  },
  {
   "cell_type": "code",
   "execution_count": null,
   "id": "550e3232",
   "metadata": {},
   "outputs": [],
   "source": [
    "# Dictionary containing various paths used in the project\n",
    "paths = {\n",
    "    'WORKSPACE_PATH': os.path.join('Tensorflow', 'workspace'),\n",
    "    'SCRIPTS_PATH': os.path.join('Tensorflow','scripts'),\n",
    "    'APIMODEL_PATH': os.path.join('Tensorflow','models'),\n",
    "    'ANNOTATION_PATH': os.path.join('Tensorflow', 'workspace','annotations'),\n",
    "    'IMAGE_PATH': os.path.join('Tensorflow', 'workspace','images'),\n",
    "    'MODEL_PATH': os.path.join('Tensorflow', 'workspace','models'),\n",
    "    'PRETRAINED_MODEL_PATH': os.path.join('Tensorflow', 'workspace','pre-trained-models'),\n",
    "    'CHECKPOINT_PATH': os.path.join('Tensorflow', 'workspace','models',CUSTOM_MODEL_NAME), \n",
    "    'OUTPUT_PATH': os.path.join('Tensorflow', 'workspace','models',CUSTOM_MODEL_NAME, 'export'), \n",
    "    'TFJS_PATH':os.path.join('Tensorflow', 'workspace','models',CUSTOM_MODEL_NAME, 'tfjsexport'), \n",
    "    'TFLITE_PATH':os.path.join('Tensorflow', 'workspace','models',CUSTOM_MODEL_NAME, 'tfliteexport'), \n",
    "    'PROTOC_PATH':os.path.join('Tensorflow','protoc')\n",
    " }"
   ]
  },
  {
   "cell_type": "code",
   "execution_count": null,
   "id": "334a2602",
   "metadata": {},
   "outputs": [],
   "source": [
    "# Dictionary containing file paths\n",
    "files = {\n",
    "    'PIPELINE_CONFIG':os.path.join('Tensorflow', 'workspace','models', CUSTOM_MODEL_NAME, 'pipeline.config'),\n",
    "    'TF_RECORD_SCRIPT': os.path.join(paths['SCRIPTS_PATH'], TF_RECORD_SCRIPT_NAME), \n",
    "    'LABELMAP': os.path.join(paths['ANNOTATION_PATH'], LABEL_MAP_NAME)\n",
    "}"
   ]
  },
  {
   "cell_type": "markdown",
   "id": "f457911b",
   "metadata": {},
   "source": [
    "# Loading Trained model from last Checkpoint"
   ]
  },
  {
   "cell_type": "code",
   "execution_count": null,
   "id": "e81b0bf4",
   "metadata": {},
   "outputs": [],
   "source": [
    "import tensorflow as tf\n",
    "from object_detection.utils import label_map_util\n",
    "from object_detection.utils import visualization_utils as viz_utils\n",
    "from object_detection.builders import model_builder\n",
    "from object_detection.utils import config_util"
   ]
  },
  {
   "cell_type": "code",
   "execution_count": null,
   "id": "452813c0",
   "metadata": {},
   "outputs": [],
   "source": [
    "# Load pipeline config and build a detection model\n",
    "configs = config_util.get_configs_from_pipeline_file(files['PIPELINE_CONFIG'])\n",
    "detection_model = model_builder.build(model_config=configs['model'], is_training=False)\n",
    "\n",
    "# Restore checkpoint\n",
    "ckpt = tf.compat.v2.train.Checkpoint(model=detection_model)\n",
    "ckpt.restore(os.path.join(paths['CHECKPOINT_PATH'], 'ckpt-11')).expect_partial()\n",
    "\n",
    "# Function to perform object detection on an input image\n",
    "@tf.function\n",
    "def detect_fn(image):\n",
    "    # Preprocess the input image\n",
    "    image, shapes = detection_model.preprocess(image)\n",
    "    \n",
    "    # Make predictions\n",
    "    prediction_dict = detection_model.predict(image, shapes)\n",
    "    \n",
    "    # Postprocess the predictions to get final detections\n",
    "    detections = detection_model.postprocess(prediction_dict, shapes)\n",
    "    \n",
    "    return detections"
   ]
  },
  {
   "cell_type": "markdown",
   "id": "68385a20",
   "metadata": {},
   "source": [
    "# Detecting Objects from an Image"
   ]
  },
  {
   "cell_type": "code",
   "execution_count": null,
   "id": "7014e95c",
   "metadata": {},
   "outputs": [],
   "source": [
    "import cv2 \n",
    "import numpy as np\n",
    "from matplotlib import pyplot as plt\n",
    "%matplotlib inline"
   ]
  },
  {
   "cell_type": "code",
   "execution_count": null,
   "id": "86d9277a",
   "metadata": {},
   "outputs": [],
   "source": [
    "# Create a category index from the label map\n",
    "category_index = label_map_util.create_category_index_from_labelmap(files['LABELMAP'])\n"
   ]
  },
  {
   "cell_type": "code",
   "execution_count": null,
   "id": "e44707ba",
   "metadata": {},
   "outputs": [],
   "source": [
    "\n",
    "# Path to the image for detection\n",
    "IMAGE_PATH = os.path.join(paths['IMAGE_PATH'], 'test', 'Thumbsdown.dcb17616-a63b-11ee-8c4d-24ee9aa45474.jpg')\n"
   ]
  },
  {
   "cell_type": "code",
   "execution_count": null,
   "id": "faacbefe",
   "metadata": {},
   "outputs": [],
   "source": [
    "# Read the image using OpenCV\n",
    "img = cv2.imread(IMAGE_PATH)\n",
    "image_np = np.array(img)\n",
    "\n",
    "# Convert the image to a TensorFlow tensor\n",
    "input_tensor = tf.convert_to_tensor(np.expand_dims(image_np, 0), dtype=tf.float32)\n",
    "\n",
    "# Perform object detection using the defined detection function\n",
    "detections = detect_fn(input_tensor)\n",
    "\n",
    "# Extract the number of detections and convert relevant data to numpy arrays\n",
    "num_detections = int(detections.pop('num_detections'))\n",
    "detections = {key: value[0, :num_detections].numpy() for key, value in detections.items()}\n",
    "detections['num_detections'] = num_detections\n",
    "\n",
    "# Ensure detection classes are integers\n",
    "detections['detection_classes'] = detections['detection_classes'].astype(np.int64)\n",
    "\n",
    "# Create a copy of the image for visualization\n",
    "image_np_with_detections = image_np.copy()\n",
    "\n",
    "# Visualize the detected boxes and labels on the image\n",
    "viz_utils.visualize_boxes_and_labels_on_image_array(\n",
    "    image_np_with_detections,\n",
    "    detections['detection_boxes'],\n",
    "    detections['detection_classes'] + 1,  # Adding 1 to align with category indices (0-based index)\n",
    "    detections['detection_scores'],\n",
    "    category_index,\n",
    "    use_normalized_coordinates=True,\n",
    "    max_boxes_to_draw=5,  # Maximum number of boxes to draw on the image\n",
    "    min_score_thresh=0.8,  # Minimum confidence score to consider a detection\n",
    "    agnostic_mode=False  # If True, treat all classes as one (agnostic to class)\n",
    ")\n",
    "\n",
    "# Display the image with visualized detections using matplotlib\n",
    "plt.imshow(cv2.cvtColor(image_np_with_detections, cv2.COLOR_BGR2RGB))\n",
    "plt.show()"
   ]
  },
  {
   "cell_type": "markdown",
   "id": "dc506ee3",
   "metadata": {},
   "source": [
    "# Real Time Detections from Webcam"
   ]
  },
  {
   "cell_type": "code",
   "execution_count": null,
   "id": "cf2e957a",
   "metadata": {},
   "outputs": [],
   "source": [
    "# Open a connection to the webcam (assuming webcam index 0)\n",
    "cap = cv2.VideoCapture(0)\n",
    "\n",
    "# Get the frame dimensions\n",
    "width = int(cap.get(cv2.CAP_PROP_FRAME_WIDTH))\n",
    "height = int(cap.get(cv2.CAP_PROP_FRAME_HEIGHT))\n",
    "\n",
    "# Continuously process frames from the webcam\n",
    "while cap.isOpened(): \n",
    "    # Read a frame from the webcam\n",
    "    ret, frame = cap.read()\n",
    "    image_np = np.array(frame)\n",
    "    \n",
    "    # Convert the frame to a TensorFlow tensor\n",
    "    input_tensor = tf.convert_to_tensor(np.expand_dims(image_np, 0), dtype=tf.float32)\n",
    "    \n",
    "    # Perform object detection on the frame\n",
    "    detections = detect_fn(input_tensor)\n",
    "    \n",
    "    # Extract and preprocess the detection results\n",
    "    num_detections = int(detections.pop('num_detections'))\n",
    "    detections = {key: value[0, :num_detections].numpy() for key, value in detections.items()}\n",
    "    detections['num_detections'] = num_detections\n",
    "\n",
    "    # Ensure detection classes are integers\n",
    "    detections['detection_classes'] = detections['detection_classes'].astype(np.int64)\n",
    "\n",
    "    # Create a copy of the frame for visualization\n",
    "    image_np_with_detections = image_np.copy()\n",
    "\n",
    "    # Visualize the detected boxes, labels, and scores on the frame\n",
    "    viz_utils.visualize_boxes_and_labels_on_image_array(\n",
    "        image_np_with_detections,\n",
    "        detections['detection_boxes'],\n",
    "        detections['detection_classes'] + 1,  # Adding 1 to align with category indices (0-based index)\n",
    "        detections['detection_scores'],\n",
    "        category_index,\n",
    "        use_normalized_coordinates=True,\n",
    "        max_boxes_to_draw=5,  # Maximum number of boxes to draw on the frame\n",
    "        min_score_thresh=0.8,  # Minimum confidence score to consider a detection\n",
    "        agnostic_mode=False  # If True, treat all classes as one (agnostic to class)\n",
    "    )\n",
    "\n",
    "    # Display the frame with visualized detections\n",
    "    cv2.imshow('object detection', cv2.resize(image_np_with_detections, (800, 600)))\n",
    "    \n",
    "    # Check for the 'q' key to exit the loop\n",
    "    if cv2.waitKey(10) & 0xFF == ord('q'):\n",
    "        cap.release()\n",
    "        cv2.destroyAllWindows()\n",
    "        break"
   ]
  },
  {
   "cell_type": "markdown",
   "id": "97bb938a",
   "metadata": {},
   "source": [
    "# Freezing Graph"
   ]
  },
  {
   "cell_type": "code",
   "execution_count": null,
   "id": "6bf94084",
   "metadata": {},
   "outputs": [],
   "source": [
    "# Path to the freezing script\n",
    "FREEZE_SCRIPT = os.path.join(paths['APIMODEL_PATH'], 'research', 'object_detection', 'exporter_main_v2.py ')\n",
    "\n",
    "# Construct the command for freezing the graph\n",
    "command = \"python {} --input_type=image_tensor --pipeline_config_path={} --trained_checkpoint_dir={} --output_directory={}\".format(\n",
    "    FREEZE_SCRIPT, files['PIPELINE_CONFIG'], paths['CHECKPOINT_PATH'], paths['OUTPUT_PATH']\n",
    ")\n",
    "\n",
    "# Execute the command to freeze the graph\n",
    "!{command}\n"
   ]
  }
 ],
 "metadata": {
  "kernelspec": {
   "display_name": "ObjectDetection",
   "language": "python",
   "name": "objectdetection"
  },
  "language_info": {
   "codemirror_mode": {
    "name": "ipython",
    "version": 3
   },
   "file_extension": ".py",
   "mimetype": "text/x-python",
   "name": "python",
   "nbconvert_exporter": "python",
   "pygments_lexer": "ipython3",
   "version": "3.10.6"
  }
 },
 "nbformat": 4,
 "nbformat_minor": 5
}
