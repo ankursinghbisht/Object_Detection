{
 "cells": [
  {
   "cell_type": "markdown",
   "id": "4aeb9ad1",
   "metadata": {},
   "source": [
    "# Importing Libraries"
   ]
  },
  {
   "cell_type": "code",
   "execution_count": 1,
   "id": "7fad2691",
   "metadata": {},
   "outputs": [
    {
     "name": "stdout",
     "output_type": "stream",
     "text": [
      "Collecting opencv-python\n",
      "  Using cached opencv_python-4.8.1.78-cp37-abi3-win_amd64.whl.metadata (20 kB)\n",
      "Collecting numpy>=1.21.2 (from opencv-python)\n",
      "  Using cached numpy-1.26.2-cp310-cp310-win_amd64.whl.metadata (61 kB)\n",
      "Using cached opencv_python-4.8.1.78-cp37-abi3-win_amd64.whl (38.1 MB)\n",
      "Using cached numpy-1.26.2-cp310-cp310-win_amd64.whl (15.8 MB)\n",
      "Installing collected packages: numpy, opencv-python\n",
      "Successfully installed numpy-1.26.2 opencv-python-4.8.1.78\n"
     ]
    }
   ],
   "source": [
    "# importing (Open Source Computer Vision Library)\n",
    "!pip install opencv-python "
   ]
  },
  {
   "cell_type": "code",
   "execution_count": 2,
   "id": "0cd04a75",
   "metadata": {},
   "outputs": [],
   "source": [
    "import cv2 # ( OpenCV )\n",
    "\n",
    "import uuid # (Universally Unique Identifier) -creates unique identifier to avoid collisions.\n",
    "\n",
    "import os # (Operating System) - for directory manipulation"
   ]
  },
  {
   "cell_type": "markdown",
   "id": "dfcf518f",
   "metadata": {},
   "source": [
    "# Defining Objects\n"
   ]
  },
  {
   "cell_type": "code",
   "execution_count": 21,
   "id": "5dbb4e0c",
   "metadata": {},
   "outputs": [],
   "source": [
    "labels=['Face','Thumbsup','Thumbsdown','Hello','Thankyou','Please','Yes','No']"
   ]
  },
  {
   "cell_type": "markdown",
   "id": "d8df4366",
   "metadata": {},
   "source": [
    "# Setting up Folders"
   ]
  },
  {
   "cell_type": "code",
   "execution_count": 22,
   "id": "cc236682",
   "metadata": {},
   "outputs": [],
   "source": [
    "IMAGES_PATH= os.path.join('Tensorflow','Workspace','Images','Collected_Images')"
   ]
  },
  {
   "cell_type": "code",
   "execution_count": 23,
   "id": "11a72579",
   "metadata": {},
   "outputs": [],
   "source": [
    "if not os.path.exists(IMAGES_PATH):\n",
    "    os.makedirs(IMAGES_PATH)\n",
    "\n",
    "for label in labels:\n",
    "    location = os.path.join(IMAGES_PATH, label)\n",
    "\n",
    "    if not os.path.exists(location):\n",
    "        os.makedirs(location)"
   ]
  },
  {
   "cell_type": "code",
   "execution_count": null,
   "id": "924479b6",
   "metadata": {},
   "outputs": [],
   "source": []
  }
 ],
 "metadata": {
  "kernelspec": {
   "display_name": "ObjectDetection",
   "language": "python",
   "name": "objectdetection"
  },
  "language_info": {
   "codemirror_mode": {
    "name": "ipython",
    "version": 3
   },
   "file_extension": ".py",
   "mimetype": "text/x-python",
   "name": "python",
   "nbconvert_exporter": "python",
   "pygments_lexer": "ipython3",
   "version": "3.10.6"
  }
 },
 "nbformat": 4,
 "nbformat_minor": 5
}
