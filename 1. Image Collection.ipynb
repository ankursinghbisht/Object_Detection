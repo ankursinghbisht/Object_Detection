{
 "cells": [
  {
   "cell_type": "markdown",
   "id": "4aeb9ad1",
   "metadata": {},
   "source": [
    "# Importing Libraries"
   ]
  },
  {
   "cell_type": "code",
   "execution_count": null,
   "id": "7fad2691",
   "metadata": {},
   "outputs": [],
   "source": [
    "# importing (Open Source Computer Vision Library) \n",
    "!pip install opencv-python "
   ]
  },
  {
   "cell_type": "code",
   "execution_count": null,
   "id": "0cd04a75",
   "metadata": {},
   "outputs": [],
   "source": [
    "import cv2 # ( OpenCV )\n",
    "\n",
    "import uuid # (Universally Unique Identifier) -creates unique identifier to avoid collisions.\n",
    "\n",
    "import os # (Operating System) - for directory manipulation\n",
    "\n",
    "import time"
   ]
  },
  {
   "cell_type": "markdown",
   "id": "dfcf518f",
   "metadata": {},
   "source": [
    "# Defining Objects\n"
   ]
  },
  {
   "cell_type": "code",
   "execution_count": null,
   "id": "5dbb4e0c",
   "metadata": {},
   "outputs": [],
   "source": [
    "# List of labels for different objects\n",
    "\n",
    "labels = ['Face', 'ThumbsUp', 'iLoveYou', 'Hello', 'ThankYou', 'Yes', 'No', 'Victory']"
   ]
  },
  {
   "cell_type": "markdown",
   "id": "d8df4366",
   "metadata": {},
   "source": [
    "# Setting up Folders"
   ]
  },
  {
   "cell_type": "code",
   "execution_count": null,
   "id": "cc236682",
   "metadata": {},
   "outputs": [],
   "source": [
    "# Defining the path to store collected images\n",
    "IMAGES_PATH= os.path.join('Tensorflow','Workspace','Images','Collected_Images')"
   ]
  },
  {
   "cell_type": "code",
   "execution_count": null,
   "id": "11a72579",
   "metadata": {},
   "outputs": [],
   "source": [
    "# Creating directories if they don't exist\n",
    "if not os.path.exists(IMAGES_PATH):\n",
    "    os.makedirs(IMAGES_PATH)\n",
    "\n",
    "for label in labels:\n",
    "    location = os.path.join(IMAGES_PATH, label)\n",
    "\n",
    "    if not os.path.exists(location):\n",
    "        os.makedirs(location)"
   ]
  },
  {
   "cell_type": "markdown",
   "id": "ff620986",
   "metadata": {},
   "source": [
    "# Capturing Images"
   ]
  },
  {
   "cell_type": "code",
   "execution_count": null,
   "id": "1c224eca",
   "metadata": {},
   "outputs": [],
   "source": [
    "\n",
    "# Number of images to collect for each label\n",
    "total_images=20\n",
    "\n",
    "for label in labels:\n",
    "    # Initialize the webcam (using 0 as the webcam index)\n",
    "    cap=cv2.VideoCapture(0) \n",
    "    print('Collecting images for {}'.format(label))\n",
    "    time.sleep(2)\n",
    "    \n",
    "     # Capture a specified number of images for each label\n",
    "    for image_num in range(total_images):\n",
    "        print('Collecting image {}'.format(image_num))\n",
    "        ret,frame=cap.read()\n",
    "        \n",
    "        # Generate a unique image name using UUID\n",
    "        image_name=os.path.join(IMAGES_PATH,label,label+'.'+'{}.jpg'.format(str(uuid.uuid1())))\n",
    "        \n",
    "        # Save the captured image to the specified path\n",
    "        cv2.imwrite(image_name,frame)\n",
    "        \n",
    "        time.sleep(1.5)\n",
    "        \n",
    "        # Break the loop if 'q' is pressed\n",
    "        if cv2.waitKey(1) and 0xFF == ord('q'):\n",
    "            break        \n",
    "            \n",
    "cap.release()\n",
    "cv2.destroyAllWindows()"
   ]
  },
  {
   "cell_type": "markdown",
   "id": "0c8d8688",
   "metadata": {},
   "source": [
    "# Labelling Images"
   ]
  },
  {
   "cell_type": "code",
   "execution_count": null,
   "id": "cc4498a1",
   "metadata": {
    "scrolled": true
   },
   "outputs": [],
   "source": [
    "# Install necessary packages for image labeling\n",
    "!pip install --upgrade pyqt5 lxml"
   ]
  },
  {
   "cell_type": "code",
   "execution_count": null,
   "id": "ff21ec1f",
   "metadata": {},
   "outputs": [],
   "source": [
    "# Define the path for labeling\n",
    "LABELING_PATH=os.path.join('TensorFlow','Labeling')"
   ]
  },
  {
   "cell_type": "code",
   "execution_count": null,
   "id": "c45e747a",
   "metadata": {},
   "outputs": [],
   "source": [
    "# Create directories and clone the labelImg GitHub repository if it doesn't exist\n",
    "if not os.path.exists(LABELING_PATH):\n",
    "    os.makedirs(LABELING_PATH)\n",
    "    !git clone https://github.com/tzutalin/labelImg {LABELING_PATH}"
   ]
  },
  {
   "cell_type": "code",
   "execution_count": null,
   "id": "e42be49a",
   "metadata": {},
   "outputs": [],
   "source": [
    "# Compile the resources file for labelImg using pyrcc5\n",
    "!cd {LABELING_PATH} && pyrcc5 -o libs/resources.py resources.qrc"
   ]
  },
  {
   "cell_type": "code",
   "execution_count": null,
   "id": "7cc363cc",
   "metadata": {},
   "outputs": [],
   "source": [
    "# Run labelImg Python script\n",
    "!cd {LABELING_PATH}&& python labelImg.py"
   ]
  }
 ],
 "metadata": {
  "kernelspec": {
   "display_name": "ObjectDetection",
   "language": "python",
   "name": "objectdetection"
  },
  "language_info": {
   "codemirror_mode": {
    "name": "ipython",
    "version": 3
   },
   "file_extension": ".py",
   "mimetype": "text/x-python",
   "name": "python",
   "nbconvert_exporter": "python",
   "pygments_lexer": "ipython3",
   "version": "3.10.6"
  }
 },
 "nbformat": 4,
 "nbformat_minor": 5
}
