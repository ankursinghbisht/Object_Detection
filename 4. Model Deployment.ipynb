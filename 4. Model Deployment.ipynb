{
 "cells": [
  {
   "cell_type": "markdown",
   "id": "e7133188",
   "metadata": {},
   "source": [
    "# Setting up paths"
   ]
  },
  {
   "cell_type": "code",
   "execution_count": null,
   "id": "09b6a68c",
   "metadata": {},
   "outputs": [],
   "source": [
    "# Importing the os module for operating system-related functionality\n",
    "import os"
   ]
  },
  {
   "cell_type": "code",
   "execution_count": null,
   "id": "6ddd5780",
   "metadata": {},
   "outputs": [],
   "source": [
    "# Dictionary containing file paths\n",
    "files = {\n",
    "    'PIPELINE_CONFIG':os.path.join('Model', 'pipeline.config'),\n",
    "    # Script for generating TFRecord\n",
    "    'TF_RECORD_SCRIPT': os.path.join('Tensorflow','scripts', 'generate_tfrecord.py'), \n",
    "    # Label map file name\n",
    "    'LABELMAP': os.path.join('Tensorflow', 'workspace','annotations', 'label_map.pbtxt')\n",
    "}"
   ]
  },
  {
   "cell_type": "markdown",
   "id": "f7e007ac",
   "metadata": {},
   "source": [
    "# Importing Modules"
   ]
  },
  {
   "cell_type": "code",
   "execution_count": null,
   "id": "f7ccc0d3",
   "metadata": {},
   "outputs": [],
   "source": [
    "import tensorflow as tf\n",
    "from object_detection.utils import label_map_util\n",
    "from object_detection.utils import visualization_utils as viz_utils\n",
    "from object_detection.builders import model_builder\n",
    "from object_detection.utils import config_util\n",
    "\n",
    "import cv2 \n",
    "import numpy as np\n",
    "from matplotlib import pyplot as plt\n",
    "%matplotlib inline"
   ]
  },
  {
   "cell_type": "code",
   "execution_count": null,
   "id": "8c29e6c3",
   "metadata": {},
   "outputs": [],
   "source": [
    "# Create a category index from the label map\n",
    "category_index = label_map_util.create_category_index_from_labelmap(files['LABELMAP'])\n"
   ]
  },
  {
   "cell_type": "markdown",
   "id": "ec7a1721",
   "metadata": {},
   "source": [
    "# Loading saved Model"
   ]
  },
  {
   "cell_type": "code",
   "execution_count": null,
   "id": "a0398745",
   "metadata": {},
   "outputs": [],
   "source": [
    "# Load pipeline config and build a detection model\n",
    "configs = config_util.get_configs_from_pipeline_file(files['PIPELINE_CONFIG'])\n",
    "detection_model = model_builder.build(model_config=configs['model'], is_training=False)\n",
    "\n",
    "# Restore checkpoint\n",
    "ckpt = tf.compat.v2.train.Checkpoint(model=detection_model)\n",
    "ckpt.restore(os.path.join('Model','checkpoint','ckpt-0')).expect_partial()\n",
    "\n",
    "# Function to perform object detection on an input image\n",
    "@tf.function\n",
    "def detect_fn(image):\n",
    "    # Preprocess the input image\n",
    "    image, shapes = detection_model.preprocess(image)\n",
    "    \n",
    "    # Make predictions\n",
    "    prediction_dict = detection_model.predict(image, shapes)\n",
    "    \n",
    "    # Postprocess the predictions to get final detections\n",
    "    detections = detection_model.postprocess(prediction_dict, shapes)\n",
    "    \n",
    "    return detections"
   ]
  },
  {
   "cell_type": "markdown",
   "id": "9d07a3e3",
   "metadata": {},
   "source": [
    "# Detecting Objects"
   ]
  },
  {
   "cell_type": "code",
   "execution_count": null,
   "id": "28b7ce1a",
   "metadata": {},
   "outputs": [],
   "source": [
    "# Open a connection to the webcam (assuming webcam index 0)\n",
    "cap = cv2.VideoCapture(0)\n",
    "\n",
    "# Get the frame dimensions\n",
    "width = int(cap.get(cv2.CAP_PROP_FRAME_WIDTH))\n",
    "height = int(cap.get(cv2.CAP_PROP_FRAME_HEIGHT))\n",
    "\n",
    "# Continuously process frames from the webcam\n",
    "while cap.isOpened(): \n",
    "    # Read a frame from the webcam\n",
    "    ret, frame = cap.read()\n",
    "    image_np = np.array(frame)\n",
    "    \n",
    "    # Convert the frame to a TensorFlow tensor\n",
    "    input_tensor = tf.convert_to_tensor(np.expand_dims(image_np, 0), dtype=tf.float32)\n",
    "    \n",
    "    # Perform object detection on the frame\n",
    "    detections = detect_fn(input_tensor)\n",
    "    \n",
    "    # Extract and preprocess the detection results\n",
    "    num_detections = int(detections.pop('num_detections'))\n",
    "    detections = {key: value[0, :num_detections].numpy() for key, value in detections.items()}\n",
    "    detections['num_detections'] = num_detections\n",
    "\n",
    "    # Ensure detection classes are integers\n",
    "    detections['detection_classes'] = detections['detection_classes'].astype(np.int64)\n",
    "\n",
    "    # Create a copy of the frame for visualization\n",
    "    image_np_with_detections = image_np.copy()\n",
    "\n",
    "    # Visualize the detected boxes, labels, and scores on the frame\n",
    "    viz_utils.visualize_boxes_and_labels_on_image_array(\n",
    "        image_np_with_detections,\n",
    "        detections['detection_boxes'],\n",
    "        detections['detection_classes'] + 1,  # Adding 1 to align with category indices (0-based index)\n",
    "        detections['detection_scores'],\n",
    "        category_index,\n",
    "        use_normalized_coordinates=True,\n",
    "        max_boxes_to_draw=5,  # Maximum number of boxes to draw on the frame\n",
    "        min_score_thresh=0.8,  # Minimum confidence score to consider a detection\n",
    "        agnostic_mode=False  # If True, treat all classes as one (agnostic to class)\n",
    "    )\n",
    "\n",
    "    # Display the frame with visualized detections\n",
    "    cv2.imshow('object detection', cv2.resize(image_np_with_detections, (800, 600)))\n",
    "    \n",
    "    # Check for the 'q' key to exit the loop\n",
    "    if cv2.waitKey(10) & 0xFF == ord('q'):\n",
    "        cap.release()\n",
    "        cv2.destroyAllWindows()\n",
    "        break"
   ]
  }
 ],
 "metadata": {
  "kernelspec": {
   "display_name": "ObjectDetection",
   "language": "python",
   "name": "objectdetection"
  },
  "language_info": {
   "codemirror_mode": {
    "name": "ipython",
    "version": 3
   },
   "file_extension": ".py",
   "mimetype": "text/x-python",
   "name": "python",
   "nbconvert_exporter": "python",
   "pygments_lexer": "ipython3",
   "version": "3.10.6"
  }
 },
 "nbformat": 4,
 "nbformat_minor": 5
}
